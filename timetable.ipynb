{
 "cells": [
  {
   "cell_type": "markdown",
   "metadata": {},
   "source": [
    "# CAU Timetable Package\n",
    "\n",
    "This Jupyter Notebook is a documentation for developers, that will like to know the how the timetable API works (because it is really need to be documented).\n",
    "\n",
    "This format is used because Jupyter Notebooks are really intuitive, and just because I wanted to)\n",
    "\n",
    "### About this project and it's structure\n",
    "\n"
   ]
  },
  {
   "cell_type": "code",
   "execution_count": 12,
   "metadata": {},
   "outputs": [],
   "source": [
    "import json"
   ]
  },
  {
   "cell_type": "code",
   "execution_count": 13,
   "metadata": {},
   "outputs": [],
   "source": [
    "# Let's start with basic file reading\n",
    "with open(\"data.json\", \"r\", encoding=\"utf8\") as file:\n",
    "    data = json.load(file)"
   ]
  },
  {
   "cell_type": "code",
   "execution_count": 14,
   "metadata": {},
   "outputs": [],
   "source": [
    "# There is so much stuff I don't want talk about, for example what the hell is going outside the table scopes\n",
    "tables = data[\"r\"][\"dbiAccessorRes\"][\"tables\"]"
   ]
  },
  {
   "cell_type": "markdown",
   "metadata": {},
   "source": [
    "### Algorithm of Finding Timetable for specific group using Class ID\n",
    "\n",
    "So to find some specific timetable for the whole week, we should:\n",
    "\n",
    "1. Finding specific `class`\n",
    "2. `group`"
   ]
  },
  {
   "cell_type": "markdown",
   "metadata": {},
   "source": [
    "### `Class`\n",
    "\n",
    "From `class` we get information about the class (as a group of people learning on the same field). We interested to get information like name of class like CS1-21 (First Class of Computer Science 2021 year).\n",
    "\n",
    "- `id`: field that consists of the class_id (e.g. '*13')\n",
    "- `name`: name of the class - 'IE2-24',\n",
    "- `short`: shortname of the class - 'IE2-24',\n",
    "- `teacherid`: id of the teacher (name of the teacher can be taken from the teacher table)\n",
    "- `classroomids`: id of the room,\n",
    "- `bell`: huego\n",
    "- `color`: color of the timetable box\n",
    "- `customfields`: huego\n",
    "- `printsubjectpictures`: huego\n",
    "- `edupageid`: something related to eduplus\n",
    "- `classroomid`: huego v edinstvennom chisle\n",
    "- `teacherids`: huego v mnojestvennom chisle\n",
    "\n",
    "#### Example\n",
    "\n",
    "```python\n",
    "classes = tables[12][\"data_rows\"]\n",
    "classes[0]\n",
    "```"
   ]
  },
  {
   "cell_type": "markdown",
   "metadata": {},
   "source": [
    "### `Groups`\n",
    "\n",
    "From `groups` we only interested in `id`, atleast for the current moment.\n",
    "\n",
    "- `id`: '*6',\n",
    "- `name`: name of the class group e.g. 'Entire class',\n",
    "- `classid`: Айди класса (Foreign Key)'*2',\n",
    "- `entireclass`: Какой то флаг True,\n",
    "- `ascttdivision`: Без понятия,\n",
    "- `divisionid`: айди разделения ?!'*2:',\n",
    "- `color`: Без понятия на что влияет этот конкретный цвет - '#FF0000'\n",
    "\n",
    "```python\n",
    "groups = tables[15][\"data_rows\"] # Groups\n",
    "groups[0]\n",
    "```"
   ]
  },
  {
   "cell_type": "markdown",
   "metadata": {},
   "source": [
    "### Standard Output\n",
    "\n",
    "This is how standard class looks a like:\n",
    "```json\n",
    "{\n",
    "    \"classsroom\": \"Hall 205A\",\n",
    "    \"color\": \"#00CCCC\",\n",
    "    \"starttime\": \"09:30\",\n",
    "    \"endtime\" :\"11:00\",\n",
    "    \"period\": 1.5,\n",
    "    \"subject\":\t\"Machine Learning Lecture\"\n",
    "}\n",
    "```"
   ]
  },
  {
   "cell_type": "markdown",
   "metadata": {},
   "source": [
    "```python\n",
    "periods = tables[1][\"data_rows\"]     # 1. Definition of periods\n",
    "classrooms = tables[11][\"data_rows\"] # 2. Definition of classrooms\n",
    "subjects = tables[13][\"data_rows\"]   # 3. Definition of subjects\n",
    "teachers = tables[14][\"data_rows\"]   # 4. Definition of teachers\n",
    "lessons = tables[18][\"data_rows\"]    # 5. Definition of lessons\n",
    "cards = tables[20][\"data_rows\"]      # 6. Definition of cards\n",
    "```"
   ]
  },
  {
   "cell_type": "code",
   "execution_count": 15,
   "metadata": {},
   "outputs": [
    {
     "data": {
      "text/plain": [
       "{'id': '5',\n",
       " 'period': '5',\n",
       " 'name': 'V',\n",
       " 'short': 'V',\n",
       " 'starttime': '16:30',\n",
       " 'endtime': '17:50',\n",
       " 'daydata': {},\n",
       " 'printinsummary': True,\n",
       " 'printinteacher': True,\n",
       " 'printinclass': True,\n",
       " 'printinclassroom': True,\n",
       " 'printonlyinbells': []}"
      ]
     },
     "execution_count": 15,
     "metadata": {},
     "output_type": "execute_result"
    }
   ],
   "source": [
    "periods = tables[1]['data_rows']\n",
    "periods[4]"
   ]
  },
  {
   "cell_type": "code",
   "execution_count": 16,
   "metadata": {},
   "outputs": [
    {
     "data": {
      "text/plain": [
       "{'id': '*1',\n",
       " 'name': 'Hall 102',\n",
       " 'short': 'Hall 102',\n",
       " 'buildingid': '',\n",
       " 'bell': '',\n",
       " 'color': '#0000CC'}"
      ]
     },
     "execution_count": 16,
     "metadata": {},
     "output_type": "execute_result"
    }
   ],
   "source": [
    "classrooms = tables[11][\"data_rows\"] # Classes\n",
    "classrooms[0]"
   ]
  },
  {
   "cell_type": "code",
   "execution_count": 17,
   "metadata": {},
   "outputs": [
    {
     "data": {
      "text/plain": [
       "{'id': '-85',\n",
       " 'name': 'Academic English 1',\n",
       " 'short': 'AE1',\n",
       " 'color': '#66FF33',\n",
       " 'picture_url': '',\n",
       " 'contract_weight': 1,\n",
       " 'edupageid': '-85'}"
      ]
     },
     "execution_count": 17,
     "metadata": {},
     "output_type": "execute_result"
    }
   ],
   "source": [
    "subjects = tables[13][\"data_rows\"] # Subjects\n",
    "subjects[0]"
   ]
  },
  {
   "cell_type": "code",
   "execution_count": 18,
   "metadata": {},
   "outputs": [
    {
     "data": {
      "text/plain": [
       "{'id': '*207',\n",
       " 'short': 'Abdeen N.',\n",
       " 'bell': '',\n",
       " 'color': '#C0C000',\n",
       " 'fontcolorprint': '',\n",
       " 'fontcolorprint2': '',\n",
       " 'customfields': [],\n",
       " 'edupageid': '',\n",
       " 'classids': []}"
      ]
     },
     "execution_count": 18,
     "metadata": {},
     "output_type": "execute_result"
    }
   ],
   "source": [
    "teachers = tables[14][\"data_rows\"]\n",
    "teachers[0]"
   ]
  },
  {
   "cell_type": "code",
   "execution_count": 19,
   "metadata": {},
   "outputs": [
    {
     "data": {
      "text/plain": [
       "{'id': '*1',\n",
       " 'subjectid': '-6',\n",
       " 'teacherids': ['-36', '-1'],\n",
       " 'groupids': ['*433'],\n",
       " 'classids': ['*87'],\n",
       " 'count': 2,\n",
       " 'durationperiods': 2,\n",
       " 'termsdefid': '*3',\n",
       " 'weeksdefid': '*3',\n",
       " 'daysdefid': '*6',\n",
       " 'terms': '1',\n",
       " 'seminargroup': None,\n",
       " 'texts': None,\n",
       " 'studentids': [],\n",
       " 'groupnames': [''],\n",
       " 'classdata': {'*87': {'divisionid': '*87:', 'groups': '1'}}}"
      ]
     },
     "execution_count": 19,
     "metadata": {},
     "output_type": "execute_result"
    }
   ],
   "source": [
    "lessons = tables[18][\"data_rows\"] # Lessons info\n",
    "lessons[0]"
   ]
  },
  {
   "cell_type": "code",
   "execution_count": 20,
   "metadata": {},
   "outputs": [
    {
     "data": {
      "text/plain": [
       "{'id': '*1',\n",
       " 'lessonid': '*1',\n",
       " 'locked': False,\n",
       " 'period': '1',\n",
       " 'days': '00010',\n",
       " 'weeks': '1',\n",
       " 'classroomids': ['*44']}"
      ]
     },
     "execution_count": 20,
     "metadata": {},
     "output_type": "execute_result"
    }
   ],
   "source": [
    "cards = tables[20][\"data_rows\"] # Cards\n",
    "cards[0]"
   ]
  },
  {
   "cell_type": "code",
   "execution_count": 21,
   "metadata": {},
   "outputs": [],
   "source": [
    "from src.timetable.Timetable import Timetable"
   ]
  },
  {
   "cell_type": "code",
   "execution_count": 23,
   "metadata": {},
   "outputs": [
    {
     "data": {
      "text/plain": [
       "'{\"0\": [{\"starttime\": \"09:30\", \"endtime\": \"10:50\", \"period\": 1, \"days\": \"10000\", \"subject\": \"Practical Innovations in Computer Science\", \"color\": \"#96FFC0\", \"classroom\": \"Hall 102\"}, {\"starttime\": \"11:00\", \"endtime\": \"12:20\", \"period\": 1, \"days\": \"10000\", \"subject\": \"Scientific Research Methods\", \"color\": \"#000080\", \"classroom\": \"Hall 205\"}, {\"starttime\": \"13:30\", \"endtime\": \"14:50\", \"period\": 1, \"days\": \"10000\", \"subject\": \"Graduation Project 1\", \"color\": \"#FF3300\", \"classroom\": \"411 (30)\"}], \"1\": [{\"starttime\": \"09:30\", \"endtime\": \"10:50\", \"period\": 1, \"days\": \"01000\", \"subject\": \"Computer Vision\", \"color\": \"#80C0FF\", \"classroom\": \"Hall 403\"}, {\"starttime\": \"11:00\", \"endtime\": \"12:20\", \"period\": 1, \"days\": \"01000\", \"subject\": \"Practical Innovations in Computer Science\", \"color\": \"#96FFC0\", \"classroom\": \"PC 219\"}, {\"starttime\": \"13:30\", \"endtime\": \"14:50\", \"period\": 1, \"days\": \"01000\", \"subject\": \"Computer Vision\", \"color\": \"#80C0FF\", \"classroom\": \"PC 309\"}], \"2\": [{\"starttime\": \"09:30\", \"endtime\": \"10:50\", \"period\": 1, \"days\": \"00100\", \"subject\": \"Graduation Project 1\", \"color\": \"#FF3300\", \"classroom\": \"414 (30)\"}, {\"starttime\": \"11:00\", \"endtime\": \"12:20\", \"period\": 1, \"days\": \"00100\", \"subject\": \"Scientific Research Methods\", \"color\": \"#000080\", \"classroom\": \"PC 309\"}], \"3\": [{\"starttime\": \"09:30\", \"endtime\": \"10:50\", \"period\": 1, \"days\": \"00010\", \"subject\": \"Practical Innovations in Computer Science\", \"color\": \"#96FFC0\", \"classroom\": \"Hall 205\"}, {\"starttime\": \"11:00\", \"endtime\": \"12:20\", \"period\": 1, \"days\": \"00010\", \"subject\": \"Graduation Project 1\", \"color\": \"#FF3300\", \"classroom\": \"PC 218\"}], \"4\": [{\"starttime\": \"09:30\", \"endtime\": \"10:50\", \"period\": 1, \"days\": \"00001\", \"subject\": \"Computer Vision\", \"color\": \"#80C0FF\", \"classroom\": \"Hall 206\"}, {\"starttime\": \"11:00\", \"endtime\": \"12:20\", \"period\": 1, \"days\": \"00001\", \"subject\": \"Graduation Project 1\", \"color\": \"#FF3300\", \"classroom\": \"PC 309\"}]}'"
      ]
     },
     "execution_count": 23,
     "metadata": {},
     "output_type": "execute_result"
    }
   ],
   "source": [
    "timetable = Timetable()\n",
    "\n",
    "json.dumps(timetable.get_week_by_class_id(\"*13\"))"
   ]
  },
  {
   "cell_type": "code",
   "execution_count": null,
   "metadata": {},
   "outputs": [],
   "source": []
  }
 ],
 "metadata": {
  "kernelspec": {
   "display_name": ".venv",
   "language": "python",
   "name": "python3"
  },
  "language_info": {
   "codemirror_mode": {
    "name": "ipython",
    "version": 3
   },
   "file_extension": ".py",
   "mimetype": "text/x-python",
   "name": "python",
   "nbconvert_exporter": "python",
   "pygments_lexer": "ipython3",
   "version": "3.12.5"
  }
 },
 "nbformat": 4,
 "nbformat_minor": 2
}
